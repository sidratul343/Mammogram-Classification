{
  "cells": [
    {
      "cell_type": "markdown",
      "metadata": {
        "id": "view-in-github",
        "colab_type": "text"
      },
      "source": [
        "<a href=\"https://colab.research.google.com/github/sidratul343/Mammogram-Classification/blob/main/Mammogram_Classification%20in%20google%20colab.ipynb\" target=\"_parent\"><img src=\"https://colab.research.google.com/assets/colab-badge.svg\" alt=\"Open In Colab\"/></a>"
      ]
    },
    {
      "cell_type": "markdown",
      "id": "blessed-configuration",
      "metadata": {
        "id": "blessed-configuration"
      },
      "source": [
        "# Breast Cancer Classification using deep learning model developed by ablation study on pre-processed mammography images\n",
        "\n",
        "In this study, we will be showcasing a computer vision classification problem using mammograms. The dataset we have used can be downloaded from https://wiki.cancerimagingarchive.net/display/Public/CBIS-DDSM. It consists of four classes:\n",
        "\n",
        "* Benign Calcification\n",
        "* Benign Mass\n",
        "* Malignant Calcification\n",
        "* Malignant Mass\n",
        "\n",
        "Therefore, this is a multi-class classification problem. The images containes artifacts and noises which may cause reducing model's performance. Hence, artifacts and noises are removed and images are enhanced by adjusting overall brightness and contrast. After pre-processing the images, the dataset is augmented as the number of images were not sufficient for a deep learning model. Finally, the model is developed using ablation study by altering several components and hyper parameters of CNN architecture.\n",
        "\n",
        "**The figure below showcases examples of four classes of this dataset**\n",
        "\n",
        "![biology-10-01347-g002-550.jpg](attachment:biology-10-01347-g002-550.jpg)"
      ]
    },
    {
      "cell_type": "markdown",
      "id": "moved-terminal",
      "metadata": {
        "id": "moved-terminal"
      },
      "source": [
        "## Installing software and files\n",
        "\n",
        "To work with computer Vision, we need to install some softwares and files.In this regard, we will be doing all the implementations in Python language on jupyter notebook. To install jupyter notebook and launch other application and files at first we have to download Anaconda which is free.\n",
        "\n",
        "Link to Download Anaconda : https://www.anaconda.com/?modal=nucleus-commercial\n",
        "\n",
        "Guideline for installing Anaconda : https://www.geeksforgeeks.org/how-to-install-anaconda-on-windows/\n",
        "\n",
        "Once Anaconda is downloaded and installed successfully, we may proceed to download Jupyter notebook.\n",
        "\n",
        "## Download and Install Jupyter Notebook\n",
        "\n",
        "\n",
        "Link to download Jupyter using Anaconda : https://docs.anaconda.com/ae-notebooks/4.3.1/user-guide/basic-tasks/apps/jupyter/\n",
        "\n",
        "More informations : https://mas-dse.github.io/startup/anaconda-windows-install/\n",
        "\n",
        "Guideline to use Jupyter notebook : https://www.dataquest.io/blog/jupyter-notebook-tutorial/\n",
        "\n",
        "\n",
        "## Installing Python libraries and packages\n",
        "\n",
        "Most Used Python libraries for image-processing\n",
        "\n",
        "* OpenCV\n",
        "* Scikit-Image\n",
        "* Pillow/PIL\n",
        "* NumPy\n",
        "* Pandas etc\n",
        "* Matplotlib\n",
        "\n",
        "\n",
        "To import and use the packages, we need pip or conda. For now we will be using pip. Using pip on Anaconda command prompt these packages can be installed.\n",
        "\n",
        "**More information**\n",
        "\n",
        "Downloading pip : https://phoenixnap.com/kb/install-pip-windows\n",
        "\n",
        "Install Python packages from Anaconda Prompt using pip : https://datatofish.com/how-to-install-python-package-in-anaconda/\n",
        "\n",
        "Once the packages are installed, you can use them by importing on Jupyter Notebook.\n",
        "\n",
        "\n",
        "Python libraries for Data Science (how to import on notebook) : https://neptune.ai/blog/image-processing-python-libraries-for-machine-learning\n",
        "\n",
        "**** Every Time you restart jupyter notebook, you have to import the libraries again****\n"
      ]
    },
    {
      "cell_type": "markdown",
      "id": "orange-express",
      "metadata": {
        "id": "orange-express"
      },
      "source": [
        "## Read, display and write image\n",
        "\n",
        "To read an write an image from folder python's Opencv or Pillow can be used, Note that if you read an image using Opencv you have to write the image using opencv as well and same goes for Pillow.\n",
        "\n",
        "To apply Opencv or Pillow we have to import them first.\n",
        "\n",
        "## Using Opencv"
      ]
    },
    {
      "cell_type": "code",
      "execution_count": null,
      "id": "smoking-barrier",
      "metadata": {
        "id": "smoking-barrier",
        "outputId": "d4518725-f0bf-46c7-cdfe-cd17462a6e10"
      },
      "outputs": [
        {
          "data": {
            "text/plain": [
              "True"
            ]
          },
          "execution_count": 2,
          "metadata": {},
          "output_type": "execute_result"
        }
      ],
      "source": [
        "import cv2\n",
        "\n",
        "read_img_dir = r'D:\\breast\\Benign_Calc\\BenignCalc\\PNG0000.png'  #input image directory\n",
        "\n",
        "read_img = cv2.imread(read_img_dir)\n",
        "\n",
        "cv2.imshow('Window',read_img)  #display image\n",
        "\n",
        "cv2.imwrite(r'C:\\Users\\DCL\\OneDrive\\Documents\\others\\tutorial\\img_1.png',read_img) #output image directory\n",
        "\n",
        "cv2.waitKey(0)"
      ]
    },
    {
      "cell_type": "markdown",
      "id": "accurate-contents",
      "metadata": {
        "id": "accurate-contents"
      },
      "source": [
        "To learn more about the parameters and how the functions work, visit https://learnopencv.com/read-display-and-write-an-image-using-opencv/\n",
        "\n",
        "## Using Pillow"
      ]
    },
    {
      "cell_type": "code",
      "execution_count": null,
      "id": "intelligent-dayton",
      "metadata": {
        "id": "intelligent-dayton"
      },
      "outputs": [],
      "source": [
        "from PIL import Image\n",
        "\n",
        "read_img_dir = r'D:\\breast\\Benign_Calc\\BenignCalc\\PNG0000.png'  #input image directory\n",
        "\n",
        "read_img = Image.open(read_img_dir) \n",
        "\n",
        "read_img.save(r'C:\\Users\\DCL\\OneDrive\\Documents\\others\\tutorial\\img_2.png')  #output image directory"
      ]
    },
    {
      "cell_type": "markdown",
      "id": "cloudy-importance",
      "metadata": {
        "id": "cloudy-importance"
      },
      "source": [
        "To learn more about the parameters and how the functions work, visit https://pillow.readthedocs.io/en/stable/reference/Image.html"
      ]
    },
    {
      "cell_type": "markdown",
      "id": "hazardous-africa",
      "metadata": {
        "id": "hazardous-africa"
      },
      "source": [
        "## Reading and writing all images from directory"
      ]
    },
    {
      "cell_type": "code",
      "execution_count": null,
      "id": "mexican-groove",
      "metadata": {
        "id": "mexican-groove"
      },
      "outputs": [],
      "source": [
        "folder = r\"input folder\"\n",
        "j=1\n",
        "for im in os.listdir(folder):\n",
        "    path = os.path.join(folder,im)\n",
        "    img = cv2.imread(path)\n",
        "    cv2.imwrite(os.path.join(r'output folder', 'image name '+str(j)+'.jpg'),img)\n",
        "    j = j+1"
      ]
    },
    {
      "cell_type": "markdown",
      "id": "driven-advancement",
      "metadata": {
        "id": "driven-advancement"
      },
      "source": [
        "## Reading and writing specific number of images from directory\n",
        "\n",
        "Here showed how to work with 15 images from directory."
      ]
    },
    {
      "cell_type": "code",
      "execution_count": null,
      "id": "facial-arizona",
      "metadata": {
        "id": "facial-arizona"
      },
      "outputs": [],
      "source": [
        "folder = r\"input folder\"\n",
        "image number = 15\n",
        "j=1\n",
        "for im in os.listdir(folder):\n",
        "    path = os.path.join(folder,im)\n",
        "    img = cv2.imread(path)\n",
        "    cv2.imwrite(os.path.join(r'output folder', 'image name '+str(j)+'.jpg'),img)\n",
        "    j = j+1\n",
        "    if j == image number\n",
        "    break"
      ]
    },
    {
      "cell_type": "markdown",
      "id": "interim-attendance",
      "metadata": {
        "id": "interim-attendance"
      },
      "source": [
        "## Image Processing\n",
        "\n",
        "Several algorithms are used for artifacts and noise removal and pixel enhancement.\n",
        "\n",
        "**Artifacts Removal**\n",
        "\n",
        "* Binary Masking\n",
        "* Morphological Opening\n",
        "* Largest Contour Detection\n",
        "* Houghline Transformation\n",
        "\n",
        "**Image Enhancement**\n",
        "\n",
        "* Gamma Correction\n",
        "* CLAHE-1st\n",
        "* CLAHE-2nd\n",
        "* Green Fire Blue (ImageJ Filter)"
      ]
    },
    {
      "cell_type": "markdown",
      "id": "spare-occasions",
      "metadata": {
        "id": "spare-occasions"
      },
      "source": [
        "## Binary Masking\n",
        "\n",
        "We find some images with thin white border either on the top, bottom, left or right side. Cropping images using a ratio could remove the border but the images would be resized as well. Hence, binary masking is applied with a rectangular mask.\n",
        "\n",
        "To learn more \n",
        "\n",
        "* https://pyimagesearch.com/2021/01/19/image-masking-with-opencv/\n",
        "* https://docs.opencv.org/4.x/dc/da5/tutorial_py_drawing_functions.html\n",
        "* https://machinelearningknowledge.ai/learn-to-draw-rectangle-in-opencv-python-with-cv2-rectangle-with-examples/\n",
        "\n",
        "**Figure below showes the Thin borders of the mammograms, (a) border at top, (b) border at left, and (c) border at bottom**\n",
        "\n",
        "![biology-10-01347-g004-550.jpg](attachment:biology-10-01347-g004-550.jpg)\n"
      ]
    },
    {
      "cell_type": "code",
      "execution_count": null,
      "id": "received-brass",
      "metadata": {
        "id": "received-brass"
      },
      "outputs": [],
      "source": [
        "### Import necessary libraries \n",
        "\n",
        "import numpy as np\n",
        "import cv2\n",
        "import matplotlib.pyplot as plt\n",
        "from PIL import Image,ImageEnhance"
      ]
    },
    {
      "cell_type": "code",
      "execution_count": null,
      "id": "hundred-lesbian",
      "metadata": {
        "id": "hundred-lesbian",
        "outputId": "718393b3-2bd9-44ab-9079-60c1223ee649"
      },
      "outputs": [
        {
          "data": {
            "image/png": "[encoded data removed]",
            "text/plain": [
              "<Figure size 432x288 with 1 Axes>"
            ]
          },
          "metadata": {
            "needs_background": "light"
          },
          "output_type": "display_data"
        }
      ],
      "source": [
        "### Read and show raw image\n",
        "\n",
        "path = r'C:\\Users\\DCL\\OneDrive\\Documents\\others\\tutorial\\a.png'\n",
        "raw_img= cv2.imread(path,0) #read in gray scale format\n",
        "\n",
        "plt.imshow(cv2.cvtColor(raw_img, cv2.COLOR_BGR2RGB))\n",
        "plt.show()"
      ]
    },
    {
      "cell_type": "code",
      "execution_count": null,
      "id": "legal-croatia",
      "metadata": {
        "id": "legal-croatia",
        "outputId": "b4a10783-01be-4d63-e504-2c1882daca58"
      },
      "outputs": [
        {
          "data": {
            "text/plain": [
              "True"
            ]
          },
          "execution_count": 31,
          "metadata": {},
          "output_type": "execute_result"
        }
      ],
      "source": [
        "### Remove boarder of raw image to isolate the breast part from image boarder\n",
        "\n",
        "#give directory of raw image\n",
        "\n",
        "raw_img= cv2.imread(path,0)\n",
        "mask = np.zeros(raw_img.shape, np.uint8)            \n",
        "mask = cv2.rectangle(mask, (2, 2) , (222, 222), (255,255,255), 5) # creating the binary mask\n",
        "mask = cv2.flip(mask,1)\n",
        "mask = cv2.bitwise_not(mask)\n",
        "boarder_removed = cv2.bitwise_and(raw_img, mask)\n",
        "\n",
        "# save boarder removed image to directory\n",
        "cv2.imwrite(r'C:\\Users\\DCL\\OneDrive\\Documents\\others\\tutorial\\border_removed.jpg',boarder_removed)"
      ]
    },
    {
      "cell_type": "markdown",
      "id": "rural-burner",
      "metadata": {
        "id": "rural-burner"
      },
      "source": [
        "The cv2.rectangle () method is used to create a rectangular mask of the same dimensions as our input image. This method requires five parameters, input_image, start_point, end_point, border_color and border_thickness. Input_image is the image to which the mask will be applied, start_point refers to the starting coordinates of the rectangular mask (x and y coordinates), end_point represents the end coordinates of the rectangular mask (x and y coordinates), border_color is the color of the border, and border_thickness is the thickness of the border.\n",
        "\n",
        "The thickness of the binary mask = 5 px so that the border is removed without losing any necessary pixels. After creating the mask, a bitwise_AND is performed to apply the mask on original images. Bitwise AND requires two parameters, the original image and the binary mask. For any bit presented in the input, the output bit will be 0 if the mask bit is 0."
      ]
    },
    {
      "cell_type": "markdown",
      "id": "suspended-console",
      "metadata": {
        "id": "suspended-console"
      },
      "source": [
        "## Morphological Opening \n",
        "\n",
        "\n",
        "Morphological Opening is one of the morphological operations which is applied to remove small noise and artifacts from an image and smooth the border of targeted larger object.\n",
        "\n",
        "To learn more\n",
        "\n",
        "* https://docs.opencv.org/3.4/d9/d61/tutorial_py_morphological_ops.html\n",
        "\n",
        "* https://medium.com/swlh/image-processing-with-python-morphological-operations-26b7006c0359\n"
      ]
    },
    {
      "cell_type": "code",
      "execution_count": null,
      "id": "unexpected-counter",
      "metadata": {
        "id": "unexpected-counter",
        "outputId": "10456857-8965-46a7-a7b4-7782b7b7db0e"
      },
      "outputs": [
        {
          "data": {
            "text/plain": [
              "True"
            ]
          },
          "execution_count": 30,
          "metadata": {},
          "output_type": "execute_result"
        }
      ],
      "source": [
        "# Performing morphological opening operation to minimize artefacts\n",
        "\n",
        "# Give directory to boarder_removed image\n",
        "path1 = r'C:\\Users\\DCL\\OneDrive\\Documents\\others\\tutorial\\border_removed.jpg'\n",
        "boarder_removed = cv2.imread(path1,0)\n",
        "kernel = np.ones((20,20),np.uint8)\n",
        "ret,thresh1 = cv2.threshold(boarder_removed,0,255,cv2.THRESH_BINARY)\n",
        "mask_open = cv2.morphologyEx(thresh1, cv2.MORPH_OPEN, kernel)\n",
        "boarder_open = cv2.bitwise_and(boarder_removed, mask_open)\n",
        "\n",
        "# save boarder_open image to directory\n",
        "cv2.imwrite(r'C:\\Users\\DCL\\OneDrive\\Documents\\others\\tutorial\\opening.jpg',boarder_open)"
      ]
    },
    {
      "cell_type": "markdown",
      "id": "searching-trademark",
      "metadata": {
        "id": "searching-trademark"
      },
      "source": [
        "**The step by step process of morphological opening can be seen in the figure below**\n",
        "![stack%20opening.png](attachment:stack%20opening.png)"
      ]
    },
    {
      "cell_type": "markdown",
      "id": "separated-underground",
      "metadata": {
        "id": "separated-underground"
      },
      "source": [
        "                   1                             2                             3                           4"
      ]
    },
    {
      "cell_type": "markdown",
      "id": "remarkable-question",
      "metadata": {
        "id": "remarkable-question"
      },
      "source": [
        "In this figure:\n",
        "\n",
        "* image 1 = original image\n",
        "\n",
        "* image 2 = binary image with a threshold value of 0-255 using cv2.threshold (noise and artifacts are visible)\n",
        "\n",
        "* image 3 = noise and artifact free binary mask using cv2.morphologyEx (after applying morphological opening)\n",
        "\n",
        "* image 4 = output of merging image 3 and image 1 (cv2.bitwise_and)\n",
        "\n",
        "In this process, after reading an image with opencv, it is formated into grayscale format. After that, the image is binarized using cv2.threshold so that  all the pixel values turn into 0 and 1.\n",
        "It is found that for a kernel size of (20, 20), results in the optimal outcome. The algorithm is applied using the cv2.morphologyEx function. Along with kernel size, this function requires another parameter, type of morphological operation. As morphological opening is applied, cv2.MORPH_OPEN is used. Thus, the noises are removed from the binarized image and the noise-free mask is then merged with the original image with the help of bitwise_AND function.\n"
      ]
    },
    {
      "cell_type": "markdown",
      "id": "crude-africa",
      "metadata": {
        "id": "crude-africa"
      },
      "source": [
        "## Largest Contour Detection\n",
        "\n",
        "After the completion of morphological opening, some images still contain large artefacts that the morphological opening could not remove. We therefore use another approach named largest contour detection to extract only the breast portition. Using openCV, contours can be detected marked and the largest contour can be extracted using cv2.findContours, cv2.drawContours and max functions.\n",
        "\n",
        "To learn more\n",
        "\n",
        "* http://www.learningaboutelectronics.com/Articles/How-to-find-the-largest-or-smallest-object-in-an-image-Python-OpenCV.php\n",
        "* https://learnopencv.com/contour-detection-using-opencv-python-c/"
      ]
    },
    {
      "cell_type": "code",
      "execution_count": null,
      "id": "radio-killer",
      "metadata": {
        "id": "radio-killer",
        "outputId": "54f47ca4-9baa-4a3a-da14-b8206b18ac43"
      },
      "outputs": [
        {
          "data": {
            "text/plain": [
              "True"
            ]
          },
          "execution_count": 29,
          "metadata": {},
          "output_type": "execute_result"
        }
      ],
      "source": [
        "### Extract Breast portion of image\n",
        "\n",
        "# give directory to boarder_open image\n",
        "path = r'C:\\Users\\DCL\\OneDrive\\Documents\\others\\tutorial\\opening.jpg' # image after applying morphological opening\n",
        "original = cv2.imread(path)\n",
        "boarder_open = Image.open(path) \n",
        "\n",
        "img_brightness_obj=ImageEnhance.Brightness(boarder_open)\n",
        "enhanced_img=img_brightness_obj.enhance(8)\n",
        "\n",
        "img  = cv2.cvtColor(np.array(enhanced_img), cv2.COLOR_BGR2RGB)\n",
        "image_contours = np.zeros((original.shape[1], original.shape[0], 1), np.uint8)\n",
        "image_binary = np.zeros((original.shape[1], original.shape[0], 1), np.uint8)\n",
        "\n",
        "for channel in range(original.shape[2]):\n",
        "        ret, image_thresh = cv2.threshold(img[:, :, channel], 127, 255, cv2.THRESH_BINARY)    \n",
        "        contours = cv2.findContours(image_thresh, 1, 1)[0]   \n",
        "        cv2.drawContours(image_contours, contours, -1, (255,255,255), 3)  \n",
        "        \n",
        "contours = cv2.findContours(image_contours, cv2.RETR_LIST, cv2.CHAIN_APPROX_SIMPLE)[0]\n",
        "cv2.drawContours(image_binary, [max(contours, key = cv2.contourArea)],-1, (255, 255, 255), -1)\n",
        "rgb_img = cv2.cvtColor(image_binary, cv2.COLOR_GRAY2RGB)\n",
        "\n",
        "largest_contour = cv2.bitwise_and(original,rgb_img)\n",
        "\n",
        "\n",
        "# save largest_contour image to directory\n",
        "cv2.imwrite(r'C:\\Users\\DCL\\OneDrive\\Documents\\others\\tutorial\\largest_contour.jpg',largest_contour)\n"
      ]
    },
    {
      "cell_type": "markdown",
      "id": "several-credit",
      "metadata": {
        "id": "several-credit"
      },
      "source": [
        "**The step by step process of extracting largest contour can be seen in the figure below**\n",
        "\n",
        "![largest.jpg](attachment:largest.jpg)"
      ]
    },
    {
      "cell_type": "markdown",
      "id": "parliamentary-deadline",
      "metadata": {
        "id": "parliamentary-deadline"
      },
      "source": [
        "In this figure:\n",
        "\n",
        "* image 1 = original image\n",
        "\n",
        "* image 2 = artifact free binary mask using after extracting the largest contour \n",
        "\n",
        "* image 3 = output of merging image 2 and image 1 (cv2.bitwise_and)"
      ]
    },
    {
      "cell_type": "markdown",
      "id": "crazy-november",
      "metadata": {
        "id": "crazy-november"
      },
      "source": [
        "## Hough Line Transform\n",
        "\n",
        "![largest_contour.jpg](attachment:largest_contour.jpg)\n",
        "\n",
        "As can be seen from this image a bright thin line is attached to the breast contour. This is an unnecessary region which can be removed using Hough Line Transform. Hough Line Transform can detect any shape,using given parameters, even if it is broken or distorted.\n",
        "\n",
        "To learn more : https://opencv24-python-tutorials.readthedocs.io/en/latest/py_tutorials/py_imgproc/py_houghlines/py_houghlines.html"
      ]
    },
    {
      "cell_type": "code",
      "execution_count": null,
      "id": "decent-while",
      "metadata": {
        "id": "decent-while"
      },
      "outputs": [],
      "source": [
        "### remove bright lines\n",
        "\n",
        "img1=cv2.imread(r'C:\\Users\\DCL\\OneDrive\\Documents\\others\\tutorial\\largest_contour.jpg')\n",
        "img = cv2.cvtColor(img1, cv2.COLOR_BGR2RGB)\n",
        "img = cv2.cvtColor(img, cv2.COLOR_RGB2HSV)\n",
        "    \n",
        "m=np.max(img1)\n",
        "n=255\n",
        "l=int(m-60)\n",
        "    \n",
        "white = (n,n,n)\n",
        "black = (0,0,l)\n",
        "mask = cv2.inRange(img, black,white)\n",
        "\n",
        "cv2.imwrite(r\"C:\\Users\\DCL\\OneDrive\\Documents\\others\\tutorial\\inRange_mask.jpg\", mask)\n",
        "\n",
        "img0 = cv2.imread(r'C:\\Users\\DCL\\OneDrive\\Documents\\others\\tutorial\\largest_contour.jpg',0)\n",
        "img = cv2.imread(r\"C:\\Users\\DCL\\OneDrive\\Documents\\others\\tutorial\\inRange_mask.jpg\",0)\n",
        "edges = cv2.Canny(img,50,150,apertureSize = 3)\n",
        "try:\n",
        "    lines = cv2.HoughLines(edges,1,np.pi/50,50)\n",
        "    for rho,theta in lines[0]:\n",
        "        a = np.cos(theta)\n",
        "        b = np.sin(theta)\n",
        "        x0 = a*rho\n",
        "        y0 = b*rho\n",
        "        x1 = int(x0 + 1000*(-b))\n",
        "        y1 = int(y0 + 1000*(a))\n",
        "        x2 = int(x0 - 1000*(-b))\n",
        "        y2 = int(y0 - 1000*(a))\n",
        "        cv2.line(img0,(x1,y1),(x2,y2),(0,0,255),4) \n",
        "        \n",
        "        cv2.imwrite(r\"C:\\Users\\DCL\\OneDrive\\Documents\\others\\tutorial\\line removed.jpg\",img0)\n",
        "        \n",
        "        edges = cv2.Canny(img0,50,150,apertureSize = 3)\n",
        "        try:\n",
        "            lines = cv2.HoughLines(edges,1,np.pi/50,50)\n",
        "            for rho,theta in lines[0]:\n",
        "                a = np.cos(theta)\n",
        "                b = np.sin(theta)\n",
        "                x0 = a*rho\n",
        "                y0 = b*rho\n",
        "                x1 = int(x0 + 1000*(-b))\n",
        "                y1 = int(y0 + 1000*(a))\n",
        "                x2 = int(x0 - 1000*(-b))\n",
        "                y2 = int(y0 - 1000*(a))\n",
        "                cv2.line(img0,(x1,y1),(x2,y2),(0,0,255),10) \n",
        "\n",
        "            cv2.imwrite(r\"C:\\Users\\DCL\\OneDrive\\Documents\\others\\tutorial\\line removed.jpg\",img0)\n",
        "        \n",
        "        except:\n",
        "            cv2.imwrite(r\"C:\\Users\\DCL\\OneDrive\\Documents\\others\\tutorial\\line removed.jpg\",img0)\n",
        "        \n",
        "except:\n",
        "    cv2.imwrite(r\"C:\\Users\\DCL\\OneDrive\\Documents\\others\\tutorial\\no line.jpg\",img0)"
      ]
    },
    {
      "cell_type": "markdown",
      "id": "sensitive-mother",
      "metadata": {
        "id": "sensitive-mother"
      },
      "source": [
        "**The step by step process of Hough Line Transform can be seen in the figure below**\n",
        "![stack%20contour.jpg](attachment:stack%20contour.jpg)"
      ]
    },
    {
      "cell_type": "markdown",
      "id": "directed-appeal",
      "metadata": {
        "id": "directed-appeal"
      },
      "source": [
        "In this figure:\n",
        "\n",
        "* image 1 = original image\n",
        "\n",
        "* image 2 = extracted bright line to be removed using Hough Line Transform\n",
        "\n",
        "* image 3 = output applying Hough Line Transform on original image using image 2"
      ]
    },
    {
      "cell_type": "markdown",
      "id": "manufactured-server",
      "metadata": {
        "id": "manufactured-server"
      },
      "source": [
        "## Image Enhancement\n",
        "\n",
        "## Gamma Correction\n",
        "\n",
        "Gamma Correction is an image enhancement technique that adjusts the overall brightness and contrast of an image. By altering this gamma value, the optimal brightness and contrast can be acquired in order to detect objects more precisely.\n",
        "\n",
        "In this process, after reading an image with opencv, it is formated into grayscale format. Using the function of np.array gamma correction is applied.\n",
        "\n",
        "To learn about Gamma Correction in details check the paper https://www.mdpi.com/2079-7737/10/12/1347\n",
        "\n",
        "To learn Gamma Correction about the functions and parameters visit https://pyimagesearch.com/2015/10/05/opencv-gamma-correction/#:~:text=There%20are%20two%20(easy)%20ways,range%20%5B0%2C%20255%5D"
      ]
    },
    {
      "cell_type": "code",
      "execution_count": null,
      "id": "coupled-guarantee",
      "metadata": {
        "id": "coupled-guarantee",
        "outputId": "8e8b29a0-fea5-40ac-b669-9bcbded43482"
      },
      "outputs": [
        {
          "data": {
            "text/plain": [
              "True"
            ]
          },
          "execution_count": 24,
          "metadata": {},
          "output_type": "execute_result"
        }
      ],
      "source": [
        "read_img_dir = r\"C:\\Users\\DCL\\OneDrive\\Documents\\others\\tutorial\\line removed.jpg\"  #input image directory\n",
        "\n",
        "read_img = cv2.imread(read_img_dir)\n",
        "\n",
        "g = cv2.cvtColor(read_img, cv2.COLOR_BGR2GRAY)  #GRAYSCALE format\n",
        "\n",
        "gamma = np.array(255*(g / 255) ** 2.0, dtype = 'uint8')  # applying gamma correction using value = 2\n",
        "\n",
        "cv2.imwrite(r'C:\\Users\\DCL\\OneDrive\\Documents\\others\\tutorial\\gamma.png',gamma) #output image directory\n"
      ]
    },
    {
      "cell_type": "markdown",
      "id": "thirty-archive",
      "metadata": {
        "id": "thirty-archive"
      },
      "source": [
        "You can see the amazing transformation below using a gamma value of 2. The left image is before applying gamma correction and the right image is after applying gamma correction. \n",
        "\n",
        "Here,\n",
        "\n",
        "gamma value > 1 means brightening.\n",
        "\n",
        "gamma value = 1 means no effect.\n",
        "\n",
        "gamma value < 1 means darkening.\n",
        "\n",
        "\n",
        "However, a particular gamma may not be suitable for any dataset. The suitable value can be chosen by testing with a few gamma value with the images.\n",
        "\n",
        "**Tranformation after applying gamma correction**\n",
        "\n",
        "![gamma%20stack.png](attachment:gamma%20stack.png)"
      ]
    },
    {
      "cell_type": "markdown",
      "id": "polyphonic-helicopter",
      "metadata": {
        "id": "polyphonic-helicopter"
      },
      "source": [
        "## Contrast limited adaptive histogram equalization (CLAHE)\n",
        "\n",
        "CLAHE is an image enhancement technique which is used to improve the visibility level of image or video.\n",
        "\n",
        "In this process, after reading an image with opencv, it is formated into grayscale format. Using the function of cv2.createCLAHE CLAHE is applied. There are two paramaters in this function, which can be altered and tested with different values to get the optimal output.\n",
        "\n",
        "In this step, we will be applying CLAHE twice as in this process, the Region of interest (ROI) gets visible more.\n",
        "\n",
        "**For more explanation** \n",
        "\n",
        "* https://en.wikipedia.org/wiki/Adaptive_histogram_equalization\n",
        "\n",
        "* https://pyimagesearch.com/2021/02/01/opencv-histogram-equalization-and-adaptive-histogram-equalization-clahe/\n",
        "\n",
        "* https://www.mdpi.com/2079-7737/10/12/1347\n"
      ]
    },
    {
      "cell_type": "code",
      "execution_count": null,
      "id": "figured-lunch",
      "metadata": {
        "id": "figured-lunch",
        "outputId": "d6cd1294-8f0c-4717-8c2a-eaca229ef52b"
      },
      "outputs": [
        {
          "data": {
            "text/plain": [
              "True"
            ]
          },
          "execution_count": 27,
          "metadata": {},
          "output_type": "execute_result"
        }
      ],
      "source": [
        "### Apply CLAHE (2 times) on artefacts_removed gamma images\n",
        "\n",
        "path = r'C:\\Users\\DCL\\OneDrive\\Documents\\others\\tutorial\\gamma.png'\n",
        "img = cv2.imread(path,0)\n",
        "\n",
        "clahe = cv2.createCLAHE(clipLimit=1.0, tileGridSize=(8,8))\n",
        "clahe_1 = clahe.apply(img)\n",
        "cv2.imwrite(r'C:\\Users\\DCL\\OneDrive\\Documents\\others\\tutorial\\clahe_1.png',clahe_1)\n",
        "\n",
        "clahe_2 = clahe.apply(clahe_1)\n",
        "\n",
        "cv2.imwrite(r'C:\\Users\\DCL\\OneDrive\\Documents\\others\\tutorial\\clahe_2.png',clahe_2)\n"
      ]
    },
    {
      "cell_type": "markdown",
      "id": "floral-average",
      "metadata": {
        "id": "floral-average"
      },
      "source": [
        "**The step by step process of applying CLAHE can be seen in the figure below**\n",
        "![clahe%20stack.png](attachment:clahe%20stack.png)"
      ]
    },
    {
      "cell_type": "markdown",
      "id": "environmental-credit",
      "metadata": {
        "id": "environmental-credit"
      },
      "source": [
        "In this figure:\n",
        "\n",
        "* image 1 = image after applying gamma correction\n",
        "\n",
        "* image 2 = after appying CLAHE on image 1\n",
        "\n",
        "* image 3 = oafter appying CLAHE on image 2"
      ]
    },
    {
      "cell_type": "markdown",
      "id": "going-organization",
      "metadata": {
        "id": "going-organization"
      },
      "source": [
        "## Green Fire Blue (ImageJ Filter)\n",
        "\n",
        "Using ImageJ software You can display, annotate, edit,  measure, analyze, process, print, and save image data. There are several filters which can be applied to highlight ROI from the surronding pixels.\n",
        "\n",
        "The software can be downloaded from here https://imagej.en.softonic.com/download\n",
        "\n",
        "For more Information visit https://imagej.nih.gov/ij/download.html\n",
        "\n",
        "After installing the software, you will a page like this will be appeared.\n",
        "\n",
        "![imj1.png](attachment:imj1.png)\n",
        "\n",
        "Several options can be seen here such as File, Edit, Image, process etc. You may explore the options with an image to see how they work. For now will be sticking with Green Fire Blue (ImageJ Filter). By clicking on the **File** option an image can be loaded from computer directory."
      ]
    },
    {
      "cell_type": "markdown",
      "id": "laughing-lease",
      "metadata": {
        "id": "laughing-lease"
      },
      "source": [
        "![IMJ4.png](attachment:IMJ4.png)\n",
        "\n",
        "Afterwards, Go to option **Image --> Lookup tables**\n",
        "\n"
      ]
    },
    {
      "cell_type": "markdown",
      "id": "assisted-cloud",
      "metadata": {
        "id": "assisted-cloud"
      },
      "source": [
        "![IMJ3.png](attachment:IMJ3.png)\n",
        "\n",
        "On **Lookup Tables** you can see several image filter. By testing the filters with image, the suitable one can be selected. For now, we will apply **Green Fire Blue**"
      ]
    },
    {
      "cell_type": "markdown",
      "id": "fallen-george",
      "metadata": {
        "id": "fallen-george"
      },
      "source": [
        "![IMG5.png](attachment:IMG5.png)\n",
        "\n",
        "It can be seen how **Green Fire Blue** filter highlighted the ROI in a different pixel value from surronding tissues.\n",
        "\n",
        "The last step is saving the image on directory. you can save image in any format such as .png, .jpeg etc. See the image below."
      ]
    },
    {
      "cell_type": "markdown",
      "id": "continuing-mason",
      "metadata": {
        "id": "continuing-mason"
      },
      "source": [
        "![IMG6.png](attachment:IMG6.png)"
      ]
    },
    {
      "cell_type": "markdown",
      "id": "continuing-plastic",
      "metadata": {
        "id": "continuing-plastic"
      },
      "source": [
        "## Image Augmentation\n",
        "\n",
        "We employ seven augmentation methods on the pre-processed dataset to increase the number of images:\n",
        "\n",
        "* vertical flipping\n",
        "* horizontal flipping\n",
        "* horizontal-vertical flipping\n",
        "* rotating 30°\n",
        "* rotating 30°-horizontal flip\n",
        "* rotating −30°\n",
        "* rotating −30°-horizontal flip\n",
        "\n",
        "\n",
        "Learn more\n",
        "\n",
        "* https://www.thepythoncode.com/article/image-transformations-using-opencv-in-python\n",
        "* https://note.nkmk.me/en/python-opencv-numpy-rotate-flip/\n"
      ]
    },
    {
      "cell_type": "code",
      "execution_count": null,
      "id": "angry-specialist",
      "metadata": {
        "id": "angry-specialist",
        "outputId": "3d3361f8-b449-438c-eb98-063768405844"
      },
      "outputs": [
        {
          "data": {
            "text/plain": [
              "True"
            ]
          },
          "execution_count": 33,
          "metadata": {},
          "output_type": "execute_result"
        }
      ],
      "source": [
        "import imutils\n",
        "\n",
        "path = r'C:\\Users\\DCL\\OneDrive\\Documents\\others\\tutorial\\gfb.png'\n",
        "img = cv2.imread(path)\n",
        "\n",
        "    \n",
        "    #0 means flipping around the x-axis \n",
        "    #positive value 1 means flipping around y-axis. \n",
        "    #Negative value (for example, -1) means flipping around both axes.\n",
        "    \n",
        "f1= cv2.flip(img,0) # vertical flipping\n",
        "cv2.imwrite(r'C:\\Users\\DCL\\OneDrive\\Documents\\others\\tutorial\\gfb 1.png',f1)\n",
        "\n",
        "f2= cv2.flip(img,-1) # horizontal flipping\n",
        "cv2.imwrite(r'C:\\Users\\DCL\\OneDrive\\Documents\\others\\tutorial\\gfb 2.png',f2)\n",
        "\n",
        "f3= cv2.flip(img,1) # horizontal-vertical flipping\n",
        "cv2.imwrite(r'C:\\Users\\DCL\\OneDrive\\Documents\\others\\tutorial\\gfb 1.png',f3)\n",
        "\n",
        "f4 = imutils.rotate(img, angle=30) #custom rotation ang - rotating 30°\n",
        "cv2.imwrite(r'C:\\Users\\DCL\\OneDrive\\Documents\\others\\tutorial\\gfb 1.png',f4)\n",
        "\n",
        "f5 = imutils.rotate(f1, angle=30) #custom rotation ang - rotating 30°-horizontal flip\n",
        "cv2.imwrite(r'C:\\Users\\DCL\\OneDrive\\Documents\\others\\tutorial\\gfb 1.png',f5)\n",
        "\n",
        "f6 = imutils.rotate(img, angle= 330) #custom rotation ang - rotating −30°\n",
        "cv2.imwrite(r'C:\\Users\\DCL\\OneDrive\\Documents\\others\\tutorial\\gfb 1.png',f6)\n",
        "f7 = imutils.rotate(f1, angle= 330) #custom rotation ang - rotating −30°-horizontal flip\n",
        "cv2.imwrite(r'C:\\Users\\DCL\\OneDrive\\Documents\\others\\tutorial\\gfb 1.png',f7)\n",
        "      "
      ]
    },
    {
      "cell_type": "markdown",
      "id": "secure-session",
      "metadata": {
        "id": "secure-session"
      },
      "source": [
        "After applying the above transformation, for a single image seven transformed images will be obtained.\n",
        "\n",
        "![biology-10-01347-g017-550.webp](attachment:biology-10-01347-g017-550.webp)"
      ]
    },
    {
      "cell_type": "markdown",
      "id": "applicable-movie",
      "metadata": {
        "id": "applicable-movie"
      },
      "source": [
        "## Dataset Split\n",
        "\n",
        "Next step is splitting the dataset into train, validation and test to train the model. The commonly used splitting rations are\n",
        "\n",
        "* train:val:test = 70:20:10, 80:,10:10, 70:10:20 etc.\n",
        "\n",
        "For our study, we will split the dataset using a ration of train:val:test = 70:10:20 using python's splitfolders library. All you have to do is\n",
        "\n",
        "* import library\n",
        "* define the input folder directory containing all the four classes\n",
        "* define an empty output folder directory\n",
        "* define the ratio\n",
        "\n",
        "splitfolder will automatically create three folder named train, val and test on your output directory and save the images there after splitting.\n",
        "\n",
        "To learn more : https://pypi.org/project/split-folders/"
      ]
    },
    {
      "cell_type": "code",
      "execution_count": null,
      "id": "turned-indonesian",
      "metadata": {
        "id": "turned-indonesian"
      },
      "outputs": [],
      "source": [
        "import splitfolders\n",
        "\n",
        "input_folder=\"input dataset directory containing all the four classes\"\n",
        "\n",
        "\n",
        "output=\"output directory\"\n",
        "\n",
        "\n",
        "splitfolders.ratio(input_folder, output, seed=42, ratio=(.70, .10, .20))"
      ]
    },
    {
      "cell_type": "markdown",
      "id": "previous-serial",
      "metadata": {
        "id": "previous-serial"
      },
      "source": [
        "## Model Building\n",
        "\n",
        "As our dataset is pre-processed and augmented, the final step is classification of the diseases using deep learning. We will employ a CNN model to classify. A CNN model is mainly consists of Convolutional layer, maxpool layer, Flatten layer and Fully Connected layer. \n",
        "To know more about CNN architecture visit:\n",
        "\n",
        "* https://www.upgrad.com/blog/basic-cnn-architecture/\n",
        "* https://towardsdatascience.com/convolutional-neural-networks-explained-9cc5188c4939\n",
        "* https://www.analyticsvidhya.com/blog/2020/10/what-is-the-convolutional-neural-network-architecture/\n",
        "\n",
        "You can build a CNN architecture using Keras library of Python:\n",
        "\n",
        "* https://towardsdatascience.com/building-a-convolutional-neural-network-cnn-in-keras-329fbbadc5f5\n",
        "* https://www.analyticsvidhya.com/blog/2021/06/building-a-convolutional-neural-network-using-tensorflow-keras/"
      ]
    },
    {
      "cell_type": "code",
      "execution_count": null,
      "id": "worldwide-project",
      "metadata": {
        "id": "worldwide-project"
      },
      "outputs": [],
      "source": [
        "import tensorflow as tf\n",
        "from tensorflow.keras import Sequential\n",
        "from keras import optimizers\n",
        "from tensorflow.keras.layers import Conv2D,MaxPool2D,Dropout,Flatten,Dense,BatchNormalization\n",
        "from tensorflow.keras.preprocessing.image import ImageDataGenerator\n",
        "from tensorflow.keras.callbacks import EarlyStopping, CSVLogger"
      ]
    },
    {
      "cell_type": "markdown",
      "id": "worldwide-institution",
      "metadata": {
        "id": "worldwide-institution"
      },
      "source": [
        "If the libraries can not be imported, you have to install first using pip that we have already discussed.\n",
        "\n",
        "After importing the libary, we have to define the input image size and the number of classes. in this case we have defined\n",
        "\n",
        "* input_shape=(224, 224, 3)\n",
        "* class_num = 4\n",
        "\n",
        "First we will construct a base CNN model with randomly applied number of layers and other hyper-parameters. Later, step by step we will apply ablation study altering different components of the base model to improve accuracy. Finally, the optimal model configuration will be generated based on highest performance.\n"
      ]
    },
    {
      "cell_type": "code",
      "execution_count": null,
      "id": "australian-stick",
      "metadata": {
        "id": "australian-stick",
        "outputId": "a2f469b3-0645-4d03-f6b6-56dadf173c94"
      },
      "outputs": [
        {
          "name": "stdout",
          "output_type": "stream",
          "text": [
            "Model: \"sequential_10\"\n",
            "_________________________________________________________________\n",
            "Layer (type)                 Output Shape              Param #   \n",
            "=================================================================\n",
            "conv2d_20 (Conv2D)           (None, 222, 222, 64)      1792      \n",
            "_________________________________________________________________\n",
            "max_pooling2d_15 (MaxPooling (None, 111, 111, 64)      0         \n",
            "_________________________________________________________________\n",
            "conv2d_21 (Conv2D)           (None, 109, 109, 128)     73856     \n",
            "_________________________________________________________________\n",
            "conv2d_22 (Conv2D)           (None, 107, 107, 64)      73792     \n",
            "_________________________________________________________________\n",
            "conv2d_23 (Conv2D)           (None, 105, 105, 32)      18464     \n",
            "_________________________________________________________________\n",
            "max_pooling2d_16 (MaxPooling (None, 52, 52, 32)        0         \n",
            "_________________________________________________________________\n",
            "conv2d_24 (Conv2D)           (None, 50, 50, 32)        9248      \n",
            "_________________________________________________________________\n",
            "conv2d_25 (Conv2D)           (None, 48, 48, 32)        9248      \n",
            "_________________________________________________________________\n",
            "max_pooling2d_17 (MaxPooling (None, 24, 24, 32)        0         \n",
            "_________________________________________________________________\n",
            "conv2d_26 (Conv2D)           (None, 22, 22, 64)        18496     \n",
            "_________________________________________________________________\n",
            "conv2d_27 (Conv2D)           (None, 20, 20, 32)        18464     \n",
            "_________________________________________________________________\n",
            "conv2d_28 (Conv2D)           (None, 18, 18, 16)        4624      \n",
            "_________________________________________________________________\n",
            "max_pooling2d_18 (MaxPooling (None, 9, 9, 16)          0         \n",
            "_________________________________________________________________\n",
            "flatten_5 (Flatten)          (None, 1296)              0         \n",
            "_________________________________________________________________\n",
            "dense_9 (Dense)              (None, 1024)              1328128   \n",
            "_________________________________________________________________\n",
            "dropout_4 (Dropout)          (None, 1024)              0         \n",
            "_________________________________________________________________\n",
            "dense_10 (Dense)             (None, 4)                 4100      \n",
            "=================================================================\n",
            "Total params: 1,560,212\n",
            "Trainable params: 1,560,212\n",
            "Non-trainable params: 0\n",
            "_________________________________________________________________\n"
          ]
        }
      ],
      "source": [
        "class_num = 4\n",
        "\n",
        "model = Sequential()\n",
        "\n",
        "\n",
        "model = Sequential()\n",
        "model.add(Conv2D(64,(3,3),activation='relu',input_shape=(224,224,3)))\n",
        "model.add(MaxPool2D(2,2))\n",
        "\n",
        "model.add(Conv2D(128,(3,3),activation='relu'))\n",
        "model.add(Conv2D(64,(3,3),activation='relu'))\n",
        "model.add(Conv2D(32,(3,3),activation='relu'))\n",
        "model.add(MaxPool2D(2,2))\n",
        "\n",
        "model.add(Conv2D(32,(3,3),activation='relu'))\n",
        "model.add(Conv2D(32,(3,3),activation='relu'))\n",
        "model.add(MaxPool2D(2,2))\n",
        "\n",
        "model.add(Conv2D(64,(3,3),activation='relu'))\n",
        "model.add(Conv2D(32,(3,3),activation='relu'))\n",
        "model.add(Conv2D(16,(3,3),activation='relu'))\n",
        "model.add(MaxPool2D(2,2))\n",
        "\n",
        "model.add(Flatten())\n",
        "model.add(Dense(1024,activation='relu'))\n",
        "model.add(Dropout(0.5))\n",
        "\n",
        "model.add(Dense(class_num,activation='softmax'))\n",
        "\n",
        "model.summary()\n"
      ]
    },
    {
      "cell_type": "markdown",
      "id": "perfect-accessory",
      "metadata": {
        "id": "perfect-accessory"
      },
      "source": [
        "In this architecture, we have nine convolution layer, four maxpool layer, one flatten layer, one dropout layer, one dense layer and one fully connected (FC) layer. See the below example ov convolution layer:\n",
        "\n",
        "**model.add(Conv2D(128,(3,3),activation='relu'))**\n",
        "\n",
        "\n",
        "* 128 = number of kernels\n",
        "* (3,3) = size of kernels\n",
        "* activation='relu'\n",
        "\n",
        "**model.add(MaxPool2D(2,2))**\n",
        "\n",
        "* MaxPool2D = type of pooling layer\n",
        "* (2,2) = size of kernels\n",
        "\n",
        "**model.add(Flatten())**\n",
        "\n",
        "* Flatten() = type of flatten layer\n",
        "\n",
        "**model.add(Dense(1024,activation='relu'))**\n",
        "\n",
        "* Dense(1024,activation='relu') = Dense layer with 1024 neorons and relu activation function\n",
        "\n",
        "**model.add(Dropout(0.5))**\n",
        "\n",
        "* Dropout(0.5) = Dropout layer with value of 0.5\n",
        "\n",
        "**model.add(Dense(class_num,activation ='softmax'))**\n",
        "\n",
        "* class_num = number of classes in the dataset\n",
        "* activation ='softmax' = 'softmax' activation function for FC layer (final classification)\n",
        "\n",
        "In ablation study process, we will alter all of these components to improve performance.\n",
        "\n",
        "However, let's compile the model first."
      ]
    },
    {
      "cell_type": "code",
      "execution_count": null,
      "id": "hydraulic-amino",
      "metadata": {
        "id": "hydraulic-amino"
      },
      "outputs": [],
      "source": [
        "op = tf.keras.optimizers.Adam(lr=0.001)\n",
        "model.compile(\n",
        "  loss='categorical_crossentropy',\n",
        "  optimizer=op,\n",
        "  metrics=['accuracy']\n",
        ")"
      ]
    },
    {
      "cell_type": "markdown",
      "id": "innovative-literacy",
      "metadata": {
        "id": "innovative-literacy"
      },
      "source": [
        "Here,\n",
        "\n",
        "* tf.keras.optimizers.Adam(lr=0.001) = optimizer Adam and learning rate, lr=0.001\n",
        "\n",
        "* loss ='categorical_crossentropy' = loss function is categorical_crossentropy. This is mostly used in multi-class classification problem.\n",
        "\n",
        "However, in ablation study process, we will alter all of these components as well.\n",
        "\n",
        "Now, let's load the training_set, val_set and test_set using ImageDataGenerator. To learn more about ImageDataGenerator visit https://www.tensorflow.org/api_docs/python/tf/keras/preprocessing/image/ImageDataGenerator. \n",
        "\n",
        "You can see inside ImageDataGenerator a few augmentation code is given. These augmentation techniques can be changed to improve accuracy. To learn more visit https://www.analyticsvidhya.com/blog/2020/08/image-augmentation-on-the-fly-using-keras-imagedatagenerator/"
      ]
    },
    {
      "cell_type": "code",
      "execution_count": null,
      "id": "confidential-modem",
      "metadata": {
        "id": "confidential-modem"
      },
      "outputs": [],
      "source": [
        "train_datagen = ImageDataGenerator(rescale = 1./255,\n",
        "                                   shear_range = 0.2,\n",
        "                                   zoom_range = 0.2,\n",
        "                                   vertical_flip= True,\n",
        "                                   horizontal_flip = True)\n",
        "\n",
        "val_datagen = ImageDataGenerator(rescale = 1./255)\n",
        "\n",
        "training_set = train_datagen.flow_from_directory('training directory',               #training dataset\n",
        "                                                 target_size = (224,224),\n",
        "                                                 batch_size = 64,\n",
        "                                                 class_mode = 'categorical',\n",
        "                                                 seed=1,\n",
        "                    \n",
        "                                                )\n",
        "\n",
        "val_set = val_datagen.flow_from_directory('validation directory',           #validation dataset\n",
        "                                            target_size = (224,224),\n",
        "                                            batch_size = 64,\n",
        "                                            class_mode = 'categorical')\n",
        "\n",
        "test_datagen = ImageDataGenerator(rescale = 1./255)\n",
        "\n",
        "test_set = test_datagen.flow_from_directory('test directory',           #test dataset\n",
        "                                            target_size = (224,224),\n",
        "                                            batch_size = 64,\n",
        "                                            class_mode = 'categorical')\n",
        "\n",
        "\n",
        "model.optimizer.get_config()"
      ]
    },
    {
      "cell_type": "markdown",
      "id": "affiliated-alarm",
      "metadata": {
        "id": "affiliated-alarm"
      },
      "source": [
        "Here,\n",
        "\n",
        "* batch_size = 64\n",
        "* class_mode = 'categorical'\n",
        "\n",
        "which also can be changed while conducting ablation study.\n",
        "\n",
        "\n",
        "**We are done with everything now. Let's train the model**"
      ]
    },
    {
      "cell_type": "code",
      "execution_count": null,
      "id": "prospective-typing",
      "metadata": {
        "id": "prospective-typing"
      },
      "outputs": [],
      "source": [
        "filepath = 'weight.h5'\n",
        "\n",
        "\n",
        "checkpoint1 = ModelCheckpoint(filepath, monitor='val_accuracy', verbose=1,save_weights_only=True,\n",
        "                             save_best_only=True, mode='max')\n",
        "\n",
        "\n",
        "\n",
        "log_csv = CSVLogger('weight.csv', separator=',', append=False)\n",
        "    \n",
        "callbacks_list = [checkpoint1,log_csv]\n",
        "\n",
        "\n",
        "r = model.fit_generator(\n",
        "    training_set,\n",
        "    epochs=300,\n",
        "    validation_data=val_set,\n",
        "    steps_per_epoch = len(training_set),\n",
        "    validation_steps=len(val_set),\n",
        "    callbacks=callbacks_list,\n",
        "    shuffle=False\n",
        "    \n",
        "\n",
        ")"
      ]
    },
    {
      "cell_type": "markdown",
      "id": "broke-mounting",
      "metadata": {
        "id": "broke-mounting"
      },
      "source": [
        "While training, Keras saves the model in .h5 format  store the weights and model configuration in a single file. To learn more https://www.tensorflow.org/guide/keras/save_and_serialize. \n",
        "\n",
        "ModelCheckpoint is used to save the configuration for which highest vakidation accuracy is achieved. To learn more https://keras.io/api/callbacks/model_checkpoint/.\n",
        "\n",
        "CSVLogger is used to save the train and validation accuracy, time per epoch in a csv file. To learn more https://keras.io/api/callbacks/csv_logger/\n",
        "\n",
        "The epoch number can be changed based on model's performance.\n",
        "\n",
        "After starting training the model, you will see something like this:\n",
        "\n",
        "![train.png](attachment:train.png)"
      ]
    },
    {
      "cell_type": "markdown",
      "id": "accredited-short",
      "metadata": {
        "id": "accredited-short"
      },
      "source": [
        "Later loss and accuracy curves are derived to detect any overfitting issue occuring while training. These plots also tells how accuracy is improved over the epochs.\n",
        "\n",
        "To learn more https://machinelearningmastery.com/display-deep-learning-model-training-history-in-keras/"
      ]
    },
    {
      "cell_type": "code",
      "execution_count": null,
      "id": "injured-leisure",
      "metadata": {
        "id": "injured-leisure"
      },
      "outputs": [],
      "source": [
        "### Plot accuracy and loss curve\n",
        "\n",
        "import matplotlib.image as mpimg\n",
        "import matplotlib.pyplot as plt\n",
        "\n",
        "\n",
        "# plot the loss\n",
        "plt.plot(r.history['loss'], label='train loss')\n",
        "plt.plot(r.history['val_loss'], label='val loss')\n",
        "plt.title('Training and validation Loss')\n",
        "plt.legend()\n",
        "plt.show()\n",
        "plt.savefig('LossVal_loss')\n",
        "\n",
        "# plot the accuracy\n",
        "plt.plot(r.history['accuracy'], label='train acc')\n",
        "plt.plot(r.history['val_accuracy'], label='val acc')\n",
        "plt.title('Training and validation accuracy')\n",
        "plt.legend()\n",
        "plt.show()\n",
        "plt.savefig('AccVal_acc')\n"
      ]
    },
    {
      "cell_type": "markdown",
      "id": "compatible-ethnic",
      "metadata": {
        "id": "compatible-ethnic"
      },
      "source": [
        "Final step is deriving the test accuracy. To know about test accuracy visit https://blog.paperspace.com/deep-learning-metrics-precision-recall-accuracy/"
      ]
    },
    {
      "cell_type": "code",
      "execution_count": null,
      "id": "speaking-channel",
      "metadata": {
        "id": "speaking-channel"
      },
      "outputs": [],
      "source": [
        "model.load_weights(\"weight.h5\")\n",
        "preds = model.evaluate_generator(test_set)\n",
        "print (\"Loss = \" + str(preds[0]))\n",
        "print (\"Test Accuracy = \" + str(preds[1]))"
      ]
    },
    {
      "cell_type": "markdown",
      "id": "broadband-prediction",
      "metadata": {
        "id": "broadband-prediction"
      },
      "source": [
        "## Ablation study\n",
        "\n",
        "The aim of the ablation study is to acquire a clear understanding of the model’s performance by analyzing the consequence of altering some components. With the alteration of different components or hyper parameters of a model, a change performance is observed. This method can ascertain any potential decrease in the performance of the model which can later be fixed by updating and tuning the network.\n",
        "\n",
        "We have trained our base CNN model several times by altering layer numbers, filer sizes filer numbers, hyper-parameters and parameter values to obtain an optimal performance."
      ]
    },
    {
      "cell_type": "markdown",
      "id": "sunrise-sheep",
      "metadata": {
        "id": "sunrise-sheep"
      },
      "source": [
        "**1. changing convolution and maxpool layer**\n",
        "\n",
        "from the base model, the number of convolution and maxpool layer can be decreased and increased to observe the performance. For our case, for the configuration of four convolution and four maxpool layer the highest performance is achieved. The architecture is given below."
      ]
    },
    {
      "cell_type": "code",
      "execution_count": null,
      "id": "brutal-alias",
      "metadata": {
        "id": "brutal-alias"
      },
      "outputs": [],
      "source": [
        "class_num = 4\n",
        "\n",
        "model = Sequential()\n",
        "\n",
        "\n",
        "model = Sequential()\n",
        "model.add(Conv2D(64,(3,3),activation='relu',input_shape=(224,224,3)))\n",
        "model.add(MaxPool2D(2,2))\n",
        "\n",
        "model.add(Conv2D(128,(3,3),activation='relu'))\n",
        "model.add(MaxPool2D(2,2))\n",
        "\n",
        "model.add(Conv2D(32,(3,3),activation='relu'))\n",
        "model.add(MaxPool2D(2,2))\n",
        "\n",
        "model.add(Conv2D(64,(3,3),activation='relu'))\n",
        "model.add(MaxPool2D(2,2))\n",
        "\n",
        "model.add(Flatten())\n",
        "model.add(Dense(1024,activation='relu'))\n",
        "model.add(Dropout(0.5))\n",
        "\n",
        "model.add(Dense(class_num,activation='softmax'))\n",
        "\n",
        "model.summary()\n"
      ]
    },
    {
      "cell_type": "markdown",
      "id": "intimate-cause",
      "metadata": {
        "id": "intimate-cause"
      },
      "source": [
        "**2. changing number of kernels of convolution layers**\n",
        "\n",
        "from the base model, the number of convolution kernel can be decreased and increased to observe the performance. For our case, for the configuration of kernel number **16-->32-->32-->64** the highest performance is achieved. The architecture is given below."
      ]
    },
    {
      "cell_type": "code",
      "execution_count": null,
      "id": "blond-chile",
      "metadata": {
        "id": "blond-chile"
      },
      "outputs": [],
      "source": [
        "class_num = 4\n",
        "\n",
        "model = Sequential()\n",
        "\n",
        "\n",
        "model = Sequential()\n",
        "model.add(Conv2D(16,(3,3),activation='relu',input_shape=(224,224,3)))\n",
        "model.add(MaxPool2D(2,2))\n",
        "\n",
        "model.add(Conv2D(32,(3,3),activation='relu'))\n",
        "model.add(MaxPool2D(2,2))\n",
        "\n",
        "model.add(Conv2D(32,(3,3),activation='relu'))\n",
        "model.add(MaxPool2D(2,2))\n",
        "\n",
        "model.add(Conv2D(64,(3,3),activation='relu'))\n",
        "model.add(MaxPool2D(2,2))\n",
        "\n",
        "model.add(Flatten())\n",
        "model.add(Dense(1024,activation='relu'))\n",
        "model.add(Dropout(0.5))\n",
        "\n",
        "model.add(Dense(class_num,activation='softmax'))\n",
        "\n",
        "model.summary()\n"
      ]
    },
    {
      "cell_type": "markdown",
      "id": "decimal-independence",
      "metadata": {
        "id": "decimal-independence"
      },
      "source": [
        "**3. changing kernel size of convolution layers**\n",
        "\n",
        "from the base model, the convolution kernel size can be decreased and increased to observe the performance. For our case, for kernel size (2,2) the highest performance is achieved. The architecture is given below."
      ]
    },
    {
      "cell_type": "code",
      "execution_count": null,
      "id": "broken-frequency",
      "metadata": {
        "id": "broken-frequency"
      },
      "outputs": [],
      "source": [
        "class_num = 4\n",
        "\n",
        "model = Sequential()\n",
        "\n",
        "\n",
        "model = Sequential()\n",
        "model.add(Conv2D(16,(2,2),activation='relu',input_shape=(224,224,3)))\n",
        "model.add(MaxPool2D(2,2))\n",
        "\n",
        "model.add(Conv2D(32,(2,2),activation='relu'))\n",
        "model.add(MaxPool2D(2,2))\n",
        "\n",
        "model.add(Conv2D(32,(2,2),activation='relu'))\n",
        "model.add(MaxPool2D(2,2))\n",
        "\n",
        "model.add(Conv2D(64,(2,2),activation='relu''))\n",
        "model.add(MaxPool2D(2,2))\n",
        "\n",
        "model.add(Flatten())\n",
        "model.add(Dense(1024,activation='relu'))\n",
        "model.add(Dropout(0.5))\n",
        "\n",
        "model.add(Dense(class_num,activation='softmax'))\n",
        "\n",
        "model.summary()\n"
      ]
    },
    {
      "cell_type": "markdown",
      "id": "atlantic-pulse",
      "metadata": {
        "id": "atlantic-pulse"
      },
      "source": [
        "**4. changing activation function of convolution layers**\n",
        "\n",
        "Five activation functions,PReLU, ReLU, Leaky ReLU, Tanh and Exponential Linear Units (ELU) are experimented where PRelu performs best with our dataset. The architecture is given below."
      ]
    },
    {
      "cell_type": "code",
      "execution_count": null,
      "id": "forbidden-tablet",
      "metadata": {
        "id": "forbidden-tablet"
      },
      "outputs": [],
      "source": [
        "class_num = 4\n",
        "\n",
        "model = Sequential()\n",
        "\n",
        "\n",
        "model = Sequential()\n",
        "model.add(Conv2D(16,(2,2),activation='PReLU',input_shape=(224,224,3)))\n",
        "model.add(MaxPool2D(2,2))\n",
        "\n",
        "model.add(Conv2D(32,(2,2),activation='PReLU'))\n",
        "model.add(MaxPool2D(2,2))\n",
        "\n",
        "model.add(Conv2D(32,(2,2),activation='PReLU'))\n",
        "model.add(MaxPool2D(2,2))\n",
        "\n",
        "model.add(Conv2D(64,(2,2),activation='PReLU'))\n",
        "model.add(MaxPool2D(2,2))\n",
        "\n",
        "model.add(Flatten())\n",
        "model.add(Dense(1024,activation='PReLU'))\n",
        "model.add(Dropout(0.5))\n",
        "\n",
        "model.add(Dense(class_num,activation='softmax'))\n",
        "\n",
        "model.summary()\n"
      ]
    },
    {
      "cell_type": "markdown",
      "id": "extra-morocco",
      "metadata": {
        "id": "extra-morocco"
      },
      "source": [
        "**5. changing the type of pooling layer**\n",
        "\n",
        "Two pooling layers, maxpool and average pool, are evaluated where both pooling layers gained almost same accuracy. Hence, we keep maxpool layer to move forward. The architecture is given below."
      ]
    },
    {
      "cell_type": "code",
      "execution_count": null,
      "id": "adjustable-hawaiian",
      "metadata": {
        "id": "adjustable-hawaiian"
      },
      "outputs": [],
      "source": [
        "class_num = 4\n",
        "\n",
        "model = Sequential()\n",
        "\n",
        "\n",
        "model = Sequential()\n",
        "model.add(Conv2D(16,(2,2),activation='PReLU',input_shape=(224,224,3)))\n",
        "model.add(MaxPool2D(2,2))\n",
        "\n",
        "model.add(Conv2D(32,(2,2),activation='PReLU'))\n",
        "model.add(MaxPool2D(2,2))\n",
        "\n",
        "model.add(Conv2D(32,(2,2),activation='PReLU'))\n",
        "model.add(MaxPool2D(2,2))\n",
        "\n",
        "model.add(Conv2D(64,(2,2),activation='PReLU'))\n",
        "model.add(MaxPool2D(2,2))\n",
        "\n",
        "model.add(Flatten())\n",
        "model.add(Dense(1024,activation='PReLU'))\n",
        "model.add(Dropout(0.5))\n",
        "\n",
        "model.add(Dense(class_num,activation='softmax'))\n",
        "\n",
        "model.summary()\n"
      ]
    },
    {
      "cell_type": "markdown",
      "id": "young-optimum",
      "metadata": {
        "id": "young-optimum"
      },
      "source": [
        "**6. changing flatten layer**\n",
        "\n",
        "We experimented with Global Max pooling and Global Average pooling flatten layer and found that the previously used flatten layer yielded the highest test accuracy.\n",
        "\n",
        "The architecture is given below."
      ]
    },
    {
      "cell_type": "code",
      "execution_count": null,
      "id": "expensive-shepherd",
      "metadata": {
        "id": "expensive-shepherd"
      },
      "outputs": [],
      "source": [
        "class_num = 4\n",
        "\n",
        "model = Sequential()\n",
        "\n",
        "\n",
        "model = Sequential()\n",
        "model.add(Conv2D(16,(2,2),activation='PReLU',input_shape=(224,224,3)))\n",
        "model.add(MaxPool2D(2,2))\n",
        "\n",
        "model.add(Conv2D(32,(2,2),activation='PReLU'))\n",
        "model.add(MaxPool2D(2,2))\n",
        "\n",
        "model.add(Conv2D(32,(2,2),activation='PReLU'))\n",
        "model.add(MaxPool2D(2,2))\n",
        "\n",
        "model.add(Conv2D(64,(2,2),activation='PReLU'))\n",
        "model.add(MaxPool2D(2,2))\n",
        "\n",
        "model.add(Flatten())\n",
        "model.add(Dense(1024,activation='PReLU'))\n",
        "model.add(Dropout(0.5))\n",
        "\n",
        "model.add(Dense(class_num,activation='softmax'))\n",
        "\n",
        "model.summary()"
      ]
    },
    {
      "cell_type": "markdown",
      "id": "piano-sheep",
      "metadata": {
        "id": "piano-sheep"
      },
      "source": [
        "**7. Changing Loss Functions**\n",
        "\n",
        "Experimentation with different loss functions, namely Binary Crossentropy, Categorical Crossentropy, Mean Squared Error, Mean Absolute Error, Mean Squared Logarithmic Error and Kullback Leibler Divergence was carried out to select the appropriate loss function for our network. While equipped with Categorical Crossentropy the model gained highest test accuracy. Hence this is chosen. "
      ]
    },
    {
      "cell_type": "code",
      "execution_count": null,
      "id": "advisory-maryland",
      "metadata": {
        "id": "advisory-maryland"
      },
      "outputs": [],
      "source": [
        "op = tf.keras.optimizers.Adam(lr=0.001)\n",
        "model.compile(\n",
        "  loss='categorical_crossentropy',\n",
        "  optimizer=op,\n",
        "  metrics=['accuracy']\n",
        ")\n"
      ]
    },
    {
      "cell_type": "markdown",
      "id": "electoral-korea",
      "metadata": {
        "id": "electoral-korea"
      },
      "source": [
        "**8. Changing Optimizer**\n",
        "\n",
        "Experimentation with different optimizers namely Adam, Nadam, SGD, Adamax and RMSprop is carried out to identify the optimal optimizer and found that Nadam yields the highest accuracy."
      ]
    },
    {
      "cell_type": "code",
      "execution_count": null,
      "id": "accessible-philadelphia",
      "metadata": {
        "id": "accessible-philadelphia"
      },
      "outputs": [],
      "source": [
        "op = tf.keras.optimizers.Nadam(lr=0.001)\n",
        "model.compile(\n",
        "  loss='categorical_crossentropy',\n",
        "  optimizer=op,\n",
        "  metrics=['accuracy']\n",
        ")\n"
      ]
    },
    {
      "cell_type": "markdown",
      "id": "electoral-result",
      "metadata": {
        "id": "electoral-result"
      },
      "source": [
        "**9. Changing Learning Rate**\n",
        "\n",
        "Experimentation with different Learning Rates, 0.001, 0.0001, 0.0008, 0.006 is carried out to identify the optimal optimizer and found that 0.0008 yields the highest accuracy."
      ]
    },
    {
      "cell_type": "code",
      "execution_count": null,
      "id": "equivalent-stockholm",
      "metadata": {
        "id": "equivalent-stockholm"
      },
      "outputs": [],
      "source": [
        "op = tf.keras.optimizers.Nadam(lr=0.0008)\n",
        "model.compile(\n",
        "  loss='categorical_crossentropy',\n",
        "  optimizer=op,\n",
        "  metrics=['accuracy']\n",
        ")\n"
      ]
    },
    {
      "cell_type": "markdown",
      "id": "rotary-adrian",
      "metadata": {
        "id": "rotary-adrian"
      },
      "source": [
        "**9. Changing batch size**\n",
        "\n",
        "Experimentation with different batch size, 16,32,64 is carried out to identify the optimal optimizer and found that 32 yields the highest accuracy."
      ]
    },
    {
      "cell_type": "code",
      "execution_count": null,
      "id": "experienced-visitor",
      "metadata": {
        "id": "experienced-visitor"
      },
      "outputs": [],
      "source": [
        "train_datagen = ImageDataGenerator(rescale = 1./255,\n",
        "                                   shear_range = 0.2,\n",
        "                                   zoom_range = 0.2,\n",
        "                                   vertical_flip= True,\n",
        "                                   horizontal_flip = True)\n",
        "\n",
        "val_datagen = ImageDataGenerator(rescale = 1./255)\n",
        "\n",
        "training_set = train_datagen.flow_from_directory('training directory',               #training dataset\n",
        "                                                 target_size = (224,224),\n",
        "                                                 batch_size = 32,\n",
        "                                                 class_mode = 'categorical',\n",
        "                                                 seed=1,\n",
        "                    \n",
        "                                                )\n",
        "\n",
        "val_set = val_datagen.flow_from_directory('validation directory',           #validation dataset\n",
        "                                            target_size = (224,224),\n",
        "                                            batch_size = 32,\n",
        "                                            class_mode = 'categorical')\n",
        "\n",
        "test_datagen = ImageDataGenerator(rescale = 1./255)\n",
        "\n",
        "test_set = test_datagen.flow_from_directory('test directory',           #test dataset\n",
        "                                            target_size = (224,224),\n",
        "                                            batch_size = 1,\n",
        "                                            class_mode = 'categorical')\n",
        "\n",
        "\n",
        "model.optimizer.get_config()"
      ]
    },
    {
      "cell_type": "markdown",
      "id": "compliant-partnership",
      "metadata": {
        "id": "compliant-partnership"
      },
      "source": [
        "## Optimal Model Architecture\n",
        "\n",
        "Finally, This is our optimal model configuration with highest accuracy after applying ablation study of nine cases."
      ]
    },
    {
      "cell_type": "code",
      "execution_count": null,
      "id": "historical-cathedral",
      "metadata": {
        "id": "historical-cathedral"
      },
      "outputs": [],
      "source": [
        "class_num = 4\n",
        "\n",
        "model = Sequential()\n",
        "\n",
        "\n",
        "model = Sequential()\n",
        "model.add(Conv2D(16,(2,2),activation='PReLU',input_shape=(224,224,3)))\n",
        "model.add(MaxPool2D(2,2))\n",
        "\n",
        "model.add(Conv2D(32,(2,2),activation='PReLU'))\n",
        "model.add(MaxPool2D(2,2))\n",
        "\n",
        "model.add(Conv2D(32,(2,2),activation='PReLU'))\n",
        "model.add(MaxPool2D(2,2))\n",
        "\n",
        "model.add(Conv2D(64,(2,2),activation='PReLU'))\n",
        "model.add(MaxPool2D(2,2))\n",
        "\n",
        "model.add(Flatten())\n",
        "model.add(Dense(1024,activation='PReLU'))\n",
        "model.add(Dropout(0.5))\n",
        "\n",
        "model.add(Dense(class_num,activation='softmax'))\n",
        "\n",
        "model.summary()\n",
        "\n",
        "\n",
        "\n",
        "\n",
        "op = tf.keras.optimizers.Nadam(lr=0.0008)\n",
        "model.compile(\n",
        "  loss='categorical_crossentropy',\n",
        "  optimizer=op,\n",
        "  metrics=['accuracy']\n",
        ")\n",
        "\n",
        "\n",
        "\n",
        "\n",
        "train_datagen = ImageDataGenerator(rescale = 1./255,\n",
        "                                   shear_range = 0.2,\n",
        "                                   zoom_range = 0.2,\n",
        "                                   vertical_flip= True,\n",
        "                                   horizontal_flip = True)\n",
        "\n",
        "val_datagen = ImageDataGenerator(rescale = 1./255)\n",
        "\n",
        "training_set = train_datagen.flow_from_directory('training directory',               #training dataset\n",
        "                                                 target_size = (224,224),\n",
        "                                                 batch_size = 32,\n",
        "                                                 class_mode = 'categorical',\n",
        "                                                 seed=1,\n",
        "                    \n",
        "                                                )\n",
        "\n",
        "val_set = val_datagen.flow_from_directory('validation directory',           #validation dataset\n",
        "                                            target_size = (224,224),\n",
        "                                            batch_size = 32,\n",
        "                                            class_mode = 'categorical')\n",
        "\n",
        "test_datagen = ImageDataGenerator(rescale = 1./255)\n",
        "\n",
        "test_set = test_datagen.flow_from_directory('test directory',           #test dataset\n",
        "                                            target_size = (224,224),\n",
        "                                            batch_size = 1,\n",
        "                                            class_mode = 'categorical')\n",
        "\n",
        "\n",
        "model.optimizer.get_config()\n",
        "\n"
      ]
    },
    {
      "cell_type": "markdown",
      "id": "southeast-river",
      "metadata": {
        "id": "southeast-river"
      },
      "source": [
        "# Happy Learning!"
      ]
    }
  ],
  "metadata": {
    "kernelspec": {
      "display_name": "Python 3",
      "language": "python",
      "name": "python3"
    },
    "language_info": {
      "codemirror_mode": {
        "name": "ipython",
        "version": 3
      },
      "file_extension": ".py",
      "mimetype": "text/x-python",
      "name": "python",
      "nbconvert_exporter": "python",
      "pygments_lexer": "ipython3",
      "version": "3.8.4"
    },
    "colab": {
      "name": "Mammogram Classification.ipynb",
      "provenance": [],
      "include_colab_link": true
    }
  },
  "nbformat": 4,
  "nbformat_minor": 5
}